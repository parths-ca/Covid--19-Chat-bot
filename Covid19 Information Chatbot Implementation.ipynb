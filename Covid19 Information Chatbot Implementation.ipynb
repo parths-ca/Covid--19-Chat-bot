{
 "cells": [
  {
   "cell_type": "code",
   "execution_count": null,
   "metadata": {},
   "outputs": [],
   "source": [
    "import numpy as np\n",
    "import tflearn\n",
    "import tensorflow as tf\n",
    "import csv\n",
    "import nltk\n",
    "from nltk.stem.lancaster import LancasterStemmer\n",
    "stemmer = LancasterStemmer()"
   ]
  },
  {
   "cell_type": "code",
   "execution_count": 20,
   "metadata": {},
   "outputs": [],
   "source": [
    "#Get data from files\n",
    "def get_data_from_file(file):\n",
    "    d = []\n",
    "    with open(file) as f:\n",
    "        data = csv.reader(f)\n",
    "        for row in data:\n",
    "            d.append(row)\n",
    "    #removing label row from the list\n",
    "    d.pop(0)\n",
    "    return d"
   ]
  },
  {
   "cell_type": "code",
   "execution_count": 21,
   "metadata": {},
   "outputs": [],
   "source": [
    "#tokenization Function\n",
    "def tokenizor(data):\n",
    "    #to save all the words in the intent file\n",
    "    words = []\n",
    "    labels = []\n",
    "    doc_x = []\n",
    "    doc_y = []\n",
    "    for pattern in data:\n",
    "        wrds = nltk.word_tokenize(pattern[0])\n",
    "        words.extend(wrds)\n",
    "        doc_x.append(wrds)\n",
    "        doc_y.append(pattern[1])\n",
    "        if pattern[1] not in labels:\n",
    "            labels.append(pattern[1])\n",
    "    return words, labels, doc_x, doc_y"
   ]
  },
  {
   "cell_type": "code",
   "execution_count": 22,
   "metadata": {},
   "outputs": [],
   "source": [
    "#Getting data from question Intent csv file\n",
    "data = get_data_from_file(\"QuestionIntent.csv\")"
   ]
  },
  {
   "cell_type": "code",
   "execution_count": 23,
   "metadata": {},
   "outputs": [],
   "source": [
    "#Tokenize every word from given input file\n",
    "words, labels, doc_x, doc_y = tokenizor(data)"
   ]
  },
  {
   "cell_type": "code",
   "execution_count": 24,
   "metadata": {},
   "outputs": [
    {
     "data": {
      "text/plain": [
       "['(',\n",
       " ')',\n",
       " ',',\n",
       " '-19',\n",
       " '.',\n",
       " 'a',\n",
       " 'abl',\n",
       " 'about',\n",
       " 'abroad',\n",
       " 'aft',\n",
       " 'against',\n",
       " 'air',\n",
       " 'allow',\n",
       " 'am',\n",
       " 'an',\n",
       " 'and',\n",
       " 'anim',\n",
       " 'any',\n",
       " 'apart',\n",
       " 'ar',\n",
       " 'are',\n",
       " 'around',\n",
       " 'as',\n",
       " 'asymptom',\n",
       " 'at',\n",
       " 'avoid',\n",
       " 'away',\n",
       " 'bathroom',\n",
       " 'be',\n",
       " 'been',\n",
       " 'belong',\n",
       " 'between',\n",
       " 'but',\n",
       " 'by',\n",
       " 'can',\n",
       " 'canad',\n",
       " 'carry',\n",
       " 'cat',\n",
       " 'catch',\n",
       " 'caus',\n",
       " 'cdc',\n",
       " 'cle',\n",
       " 'clos',\n",
       " 'commun',\n",
       " 'complex',\n",
       " 'comply',\n",
       " 'connect',\n",
       " 'consid',\n",
       " 'contact',\n",
       " 'contamin',\n",
       " 'contract',\n",
       " 'coronavir',\n",
       " 'country',\n",
       " 'covid',\n",
       " 'covid-19',\n",
       " 'cur',\n",
       " 'develop',\n",
       " 'diagnos',\n",
       " 'died',\n",
       " 'diseas',\n",
       " 'disinfect',\n",
       " 'dist',\n",
       " 'do',\n",
       " 'doe',\n",
       " 'drink',\n",
       " 'dur',\n",
       " 'environ',\n",
       " 'ess',\n",
       " 'feel',\n",
       " 'fin',\n",
       " 'food',\n",
       " 'for',\n",
       " 'from',\n",
       " 'fun',\n",
       " 'fur',\n",
       " 'gath',\n",
       " 'gen',\n",
       " 'get',\n",
       " 'go',\n",
       " 'hand',\n",
       " 'handl',\n",
       " 'handrail',\n",
       " 'hap',\n",
       " 'has',\n",
       " 'hav',\n",
       " 'hello',\n",
       " 'help',\n",
       " 'hi',\n",
       " 'high',\n",
       " 'hom',\n",
       " 'hot',\n",
       " 'how',\n",
       " 'i',\n",
       " 'if',\n",
       " 'il',\n",
       " 'in',\n",
       " 'includ',\n",
       " 'incub',\n",
       " 'infect',\n",
       " 'inform',\n",
       " 'is',\n",
       " 'it',\n",
       " 'len',\n",
       " 'lik',\n",
       " 'long',\n",
       " 'lov',\n",
       " 'mail',\n",
       " 'mask',\n",
       " 'minim',\n",
       " 'mosquito',\n",
       " 'much',\n",
       " 'my',\n",
       " 'myself',\n",
       " 'nee',\n",
       " 'nor',\n",
       " 'not',\n",
       " 'novel',\n",
       " 'of',\n",
       " 'oft',\n",
       " 'on',\n",
       " 'or',\n",
       " 'oth',\n",
       " 'outbreak',\n",
       " 'outsid',\n",
       " 'own',\n",
       " 'pack',\n",
       " 'pass',\n",
       " 'peopl',\n",
       " 'period',\n",
       " 'person',\n",
       " 'pet',\n",
       " 'phys',\n",
       " 'plac',\n",
       " 'playground',\n",
       " 'pool',\n",
       " 'pop',\n",
       " 'poss',\n",
       " 'pot',\n",
       " 'precaut',\n",
       " 'prev',\n",
       " 'produc',\n",
       " 'protect',\n",
       " 'publ',\n",
       " 'reason',\n",
       " 'rec',\n",
       " 'receiv',\n",
       " 'recommend',\n",
       " 'reduc',\n",
       " 'refrig',\n",
       " 'report',\n",
       " 'resta',\n",
       " 'return',\n",
       " 'risk',\n",
       " 'saf',\n",
       " 'sanit',\n",
       " 'serv',\n",
       " 'sery',\n",
       " 'sev',\n",
       " 'ship',\n",
       " 'should',\n",
       " 'show',\n",
       " 'sick',\n",
       " 'skin',\n",
       " 'soap',\n",
       " 'soc',\n",
       " 'someon',\n",
       " 'spec',\n",
       " 'spread',\n",
       " 'stay',\n",
       " 'stop',\n",
       " 'such',\n",
       " 'support',\n",
       " 'surfac',\n",
       " 'symptom',\n",
       " 'tak',\n",
       " 'take-out',\n",
       " 'temp',\n",
       " 'test',\n",
       " 'that',\n",
       " 'the',\n",
       " 'their',\n",
       " 'themselv',\n",
       " 'ther',\n",
       " 'they',\n",
       " 'through',\n",
       " 'tick',\n",
       " 'to',\n",
       " 'told',\n",
       " 'touch',\n",
       " 'trac',\n",
       " 'transmit',\n",
       " 'travel',\n",
       " 'trip',\n",
       " 'tub',\n",
       " 'u.s.',\n",
       " 'us',\n",
       " 'vir',\n",
       " 'visit',\n",
       " 'warm',\n",
       " 'was',\n",
       " 'wat',\n",
       " 'wear',\n",
       " 'weath',\n",
       " 'wel',\n",
       " 'what',\n",
       " 'when',\n",
       " 'wher',\n",
       " 'who',\n",
       " 'wil',\n",
       " 'with',\n",
       " 'worry']"
      ]
     },
     "execution_count": 24,
     "metadata": {},
     "output_type": "execute_result"
    }
   ],
   "source": [
    "#creating a bag of words from after stemming all the words\n",
    "words = [stemmer.stem(w.lower()) for w in words if w != \"?\"]\n",
    "words = sorted(list(set(words)))\n",
    "words"
   ]
  },
  {
   "cell_type": "code",
   "execution_count": 27,
   "metadata": {},
   "outputs": [
    {
     "data": {
      "text/plain": [
       "['death',\n",
       " 'greeting',\n",
       " 'info',\n",
       " 'pets',\n",
       " 'precaution',\n",
       " 'risk',\n",
       " 'spread',\n",
       " 'tracing',\n",
       " 'trip']"
      ]
     },
     "execution_count": 27,
     "metadata": {},
     "output_type": "execute_result"
    }
   ],
   "source": [
    "labels = sorted(labels)\n",
    "labels"
   ]
  },
  {
   "cell_type": "code",
   "execution_count": 28,
   "metadata": {},
   "outputs": [
    {
     "data": {
      "text/plain": [
       "[0, 0, 0, 0, 0, 0, 0, 0, 0]"
      ]
     },
     "execution_count": 28,
     "metadata": {},
     "output_type": "execute_result"
    }
   ],
   "source": [
    "training = []\n",
    "output = []\n",
    "\n",
    "#One hot encoding \n",
    "out_empty = [0 for _ in range(len(labels))]\n",
    "out_empty"
   ]
  },
  {
   "cell_type": "code",
   "execution_count": 29,
   "metadata": {},
   "outputs": [],
   "source": [
    "for x, doc in enumerate(doc_x):\n",
    "    bag = []\n",
    "    wrds = [stemmer.stem(w) for w in doc]\n",
    "    for w in words:\n",
    "        if w in wrds:\n",
    "            bag.append(1)\n",
    "        else:\n",
    "            bag.append(0)\n",
    "    output_row = out_empty[:]\n",
    "    output_row[labels.index(doc_y[x])] = 1\n",
    "    \n",
    "    training.append(bag)\n",
    "    output.append(output_row)\n"
   ]
  },
  {
   "cell_type": "code",
   "execution_count": 30,
   "metadata": {},
   "outputs": [],
   "source": [
    "training = np.array(training)\n",
    "output = np.array(output)"
   ]
  },
  {
   "cell_type": "code",
   "execution_count": 31,
   "metadata": {},
   "outputs": [
    {
     "data": {
      "text/plain": [
       "array([[1, 0, 0, 0, 0, 0, 0, 0, 0],\n",
       "       [1, 0, 0, 0, 0, 0, 0, 0, 0],\n",
       "       [1, 0, 0, 0, 0, 0, 0, 0, 0],\n",
       "       [0, 1, 0, 0, 0, 0, 0, 0, 0],\n",
       "       [0, 1, 0, 0, 0, 0, 0, 0, 0],\n",
       "       [0, 0, 1, 0, 0, 0, 0, 0, 0],\n",
       "       [0, 0, 1, 0, 0, 0, 0, 0, 0],\n",
       "       [0, 0, 1, 0, 0, 0, 0, 0, 0],\n",
       "       [0, 0, 1, 0, 0, 0, 0, 0, 0],\n",
       "       [0, 0, 1, 0, 0, 0, 0, 0, 0],\n",
       "       [0, 0, 1, 0, 0, 0, 0, 0, 0],\n",
       "       [0, 0, 1, 0, 0, 0, 0, 0, 0],\n",
       "       [0, 0, 1, 0, 0, 0, 0, 0, 0],\n",
       "       [0, 0, 1, 0, 0, 0, 0, 0, 0],\n",
       "       [0, 0, 0, 1, 0, 0, 0, 0, 0],\n",
       "       [0, 0, 0, 1, 0, 0, 0, 0, 0],\n",
       "       [0, 0, 0, 1, 0, 0, 0, 0, 0],\n",
       "       [0, 0, 0, 1, 0, 0, 0, 0, 0],\n",
       "       [0, 0, 0, 1, 0, 0, 0, 0, 0],\n",
       "       [0, 0, 0, 1, 0, 0, 0, 0, 0],\n",
       "       [0, 0, 0, 1, 0, 0, 0, 0, 0],\n",
       "       [0, 0, 0, 0, 1, 0, 0, 0, 0],\n",
       "       [0, 0, 0, 0, 1, 0, 0, 0, 0],\n",
       "       [0, 0, 0, 0, 1, 0, 0, 0, 0],\n",
       "       [0, 0, 0, 0, 1, 0, 0, 0, 0],\n",
       "       [0, 0, 0, 0, 1, 0, 0, 0, 0],\n",
       "       [0, 0, 0, 0, 1, 0, 0, 0, 0],\n",
       "       [0, 0, 0, 0, 1, 0, 0, 0, 0],\n",
       "       [0, 0, 0, 0, 1, 0, 0, 0, 0],\n",
       "       [0, 0, 0, 0, 1, 0, 0, 0, 0],\n",
       "       [0, 0, 0, 0, 1, 0, 0, 0, 0],\n",
       "       [0, 0, 0, 0, 1, 0, 0, 0, 0],\n",
       "       [0, 0, 0, 0, 1, 0, 0, 0, 0],\n",
       "       [0, 0, 0, 0, 1, 0, 0, 0, 0],\n",
       "       [0, 0, 0, 0, 1, 0, 0, 0, 0],\n",
       "       [0, 0, 0, 0, 1, 0, 0, 0, 0],\n",
       "       [0, 0, 0, 0, 0, 1, 0, 0, 0],\n",
       "       [0, 0, 0, 0, 0, 1, 0, 0, 0],\n",
       "       [0, 0, 0, 0, 0, 1, 0, 0, 0],\n",
       "       [0, 0, 0, 0, 0, 1, 0, 0, 0],\n",
       "       [0, 0, 0, 0, 0, 1, 0, 0, 0],\n",
       "       [0, 0, 0, 0, 0, 1, 0, 0, 0],\n",
       "       [0, 0, 0, 0, 0, 1, 0, 0, 0],\n",
       "       [0, 0, 0, 0, 0, 1, 0, 0, 0],\n",
       "       [0, 0, 0, 0, 0, 1, 0, 0, 0],\n",
       "       [0, 0, 0, 0, 0, 1, 0, 0, 0],\n",
       "       [0, 0, 0, 0, 0, 1, 0, 0, 0],\n",
       "       [0, 0, 0, 0, 0, 1, 0, 0, 0],\n",
       "       [0, 0, 0, 0, 0, 0, 1, 0, 0],\n",
       "       [0, 0, 0, 0, 0, 0, 1, 0, 0],\n",
       "       [0, 0, 0, 0, 0, 0, 1, 0, 0],\n",
       "       [0, 0, 0, 0, 0, 0, 1, 0, 0],\n",
       "       [0, 0, 0, 0, 0, 0, 1, 0, 0],\n",
       "       [0, 0, 0, 0, 0, 0, 1, 0, 0],\n",
       "       [0, 0, 0, 0, 0, 0, 1, 0, 0],\n",
       "       [0, 0, 0, 0, 0, 0, 1, 0, 0],\n",
       "       [0, 0, 0, 0, 0, 0, 1, 0, 0],\n",
       "       [0, 0, 0, 0, 0, 0, 1, 0, 0],\n",
       "       [0, 0, 0, 0, 0, 0, 0, 1, 0],\n",
       "       [0, 0, 0, 0, 0, 0, 0, 1, 0],\n",
       "       [0, 0, 0, 0, 0, 0, 0, 1, 0],\n",
       "       [0, 0, 0, 0, 0, 0, 0, 1, 0],\n",
       "       [0, 0, 0, 0, 0, 0, 0, 1, 0],\n",
       "       [0, 0, 0, 0, 0, 0, 0, 1, 0],\n",
       "       [0, 0, 0, 0, 0, 0, 0, 0, 1],\n",
       "       [0, 0, 0, 0, 0, 0, 0, 0, 1],\n",
       "       [0, 0, 0, 0, 0, 0, 0, 0, 1],\n",
       "       [0, 0, 0, 0, 0, 0, 0, 0, 1],\n",
       "       [0, 0, 0, 0, 0, 0, 0, 0, 1]])"
      ]
     },
     "execution_count": 31,
     "metadata": {},
     "output_type": "execute_result"
    }
   ],
   "source": [
    "output"
   ]
  },
  {
   "cell_type": "markdown",
   "metadata": {},
   "source": [
    "tf.reset_default_graph()"
   ]
  },
  {
   "cell_type": "code",
   "execution_count": 35,
   "metadata": {},
   "outputs": [
    {
     "name": "stdout",
     "output_type": "stream",
     "text": [
      "WARNING:tensorflow:From C:\\NiksBot\\envs\\aidi1100\\lib\\site-packages\\tflearn\\initializations.py:165: calling TruncatedNormal.__init__ (from tensorflow.python.ops.init_ops) with dtype is deprecated and will be removed in a future version.\n",
      "Instructions for updating:\n",
      "Call initializer instance with the dtype argument instead of passing it to the constructor\n"
     ]
    },
    {
     "name": "stderr",
     "output_type": "stream",
     "text": [
      "WARNING:tensorflow:From C:\\NiksBot\\envs\\aidi1100\\lib\\site-packages\\tflearn\\initializations.py:165: calling TruncatedNormal.__init__ (from tensorflow.python.ops.init_ops) with dtype is deprecated and will be removed in a future version.\n",
      "Instructions for updating:\n",
      "Call initializer instance with the dtype argument instead of passing it to the constructor\n"
     ]
    },
    {
     "name": "stdout",
     "output_type": "stream",
     "text": [
      "WARNING:tensorflow:From C:\\NiksBot\\envs\\aidi1100\\lib\\site-packages\\tensorflow_core\\python\\ops\\math_grad.py:1424: where (from tensorflow.python.ops.array_ops) is deprecated and will be removed in a future version.\n",
      "Instructions for updating:\n",
      "Use tf.where in 2.0, which has the same broadcast rule as np.where\n"
     ]
    },
    {
     "name": "stderr",
     "output_type": "stream",
     "text": [
      "WARNING:tensorflow:From C:\\NiksBot\\envs\\aidi1100\\lib\\site-packages\\tensorflow_core\\python\\ops\\math_grad.py:1424: where (from tensorflow.python.ops.array_ops) is deprecated and will be removed in a future version.\n",
      "Instructions for updating:\n",
      "Use tf.where in 2.0, which has the same broadcast rule as np.where\n"
     ]
    }
   ],
   "source": [
    "#Creation of Model Using tflearn library\n",
    "net = tflearn.input_data(shape = [None, len(training[0])])\n",
    "net = tflearn.fully_connected(net, 16)\n",
    "net = tflearn.fully_connected(net, 16)\n",
    "net = tflearn.fully_connected(net, len(output[0]), activation = \"softmax\")\n",
    "net = tflearn.regression(net)\n",
    "\n",
    "model = tflearn.DNN(net)"
   ]
  },
  {
   "cell_type": "code",
   "execution_count": 36,
   "metadata": {},
   "outputs": [
    {
     "name": "stdout",
     "output_type": "stream",
     "text": [
      "Training Step: 8999  | total loss: \u001b[1m\u001b[32m0.01618\u001b[0m\u001b[0m | time: 0.047s\n",
      "| Adam | epoch: 1000 | loss: 0.01618 - acc: 0.9885 -- iter: 64/69\n",
      "Training Step: 9000  | total loss: \u001b[1m\u001b[32m0.01468\u001b[0m\u001b[0m | time: 0.051s\n",
      "| Adam | epoch: 1000 | loss: 0.01468 - acc: 0.9896 -- iter: 69/69\n",
      "--\n"
     ]
    }
   ],
   "source": [
    "model.fit(training, output, n_epoch=1000, batch_size=8, show_metric=True)"
   ]
  },
  {
   "cell_type": "code",
   "execution_count": 37,
   "metadata": {},
   "outputs": [
    {
     "name": "stdout",
     "output_type": "stream",
     "text": [
      "INFO:tensorflow:C:\\Users\\Nik's Bot\\Documents\\GitHub\\COVID19-Chatbot\\model.tflearn is not in all_model_checkpoint_paths. Manually adding it.\n"
     ]
    },
    {
     "name": "stderr",
     "output_type": "stream",
     "text": [
      "INFO:tensorflow:C:\\Users\\Nik's Bot\\Documents\\GitHub\\COVID19-Chatbot\\model.tflearn is not in all_model_checkpoint_paths. Manually adding it.\n"
     ]
    }
   ],
   "source": [
    "model.save(\"model.tflearn\")"
   ]
  },
  {
   "cell_type": "code",
   "execution_count": 39,
   "metadata": {},
   "outputs": [],
   "source": [
    "#Creating Bag of Words coming from user input.\n",
    "def bag_of_words(s, words):\n",
    "    bag = [0 for _ in range(len(words))]\n",
    "    \n",
    "    s_words = nltk.word_tokenize(s)\n",
    "    s_words = [stemmer.stem(word.lower()) for word in s_words]\n",
    "    \n",
    "    for se in s_words:\n",
    "        for i, w in enumerate(words):\n",
    "            if w == se:\n",
    "                bag[i] = 1\n",
    "    return np.array(bag)"
   ]
  },
  {
   "cell_type": "code",
   "execution_count": 40,
   "metadata": {},
   "outputs": [],
   "source": [
    "#Connetion to AnswerIntent file and give response back to get_response function\n",
    "def reply(tag):\n",
    "    with open(\"AnswerIntent.csv\",  encoding=\"utf8\", errors='ignore') as file:\n",
    "        #print(tag)\n",
    "        data = csv.reader(file)\n",
    "\n",
    "        for row in data:\n",
    "            if row[0] == tag:\n",
    "                return row[1]\n",
    "                "
   ]
  },
  {
   "cell_type": "markdown",
   "metadata": {},
   "source": [
    "def chat():\n",
    "    print(\"Let's Talk about COVID-19!\")\n",
    "    while True:\n",
    "        inp = input(\"\\nyou: \")\n",
    "        if inp.lower() == \"quit\":\n",
    "            break\n",
    "        results = model.predict([bag_of_words(inp, words)])[0]\n",
    "        results_index = numpy.argmax(results)\n",
    "        tag = labels[results_index]\n",
    "        if results[results_index] > 0.7:\n",
    "            reply(tag)\n",
    "        else:\n",
    "            print(\"That's out of my scope! Is there anything else I can help you with?\")"
   ]
  },
  {
   "cell_type": "code",
   "execution_count": 41,
   "metadata": {},
   "outputs": [],
   "source": [
    "#Checking for the intent and give response according to intent\n",
    "def get_response(text):\n",
    "    results = model.predict([bag_of_words(text, words)])[0]\n",
    "    results_index = np.argmax(results)\n",
    "    tag = labels[results_index]\n",
    "    if results[results_index] > 0.8:\n",
    "        re = reply(tag)\n",
    "    else:\n",
    "        re = \"That question out of my scope :(, Is there anything else I can help you with?\"\n",
    "    return  re"
   ]
  },
  {
   "cell_type": "code",
   "execution_count": null,
   "metadata": {},
   "outputs": [
    {
     "name": "stdout",
     "output_type": "stream",
     "text": [
      " * Serving Flask app \"__main__\" (lazy loading)\n",
      " * Environment: production\n",
      "   WARNING: This is a development server. Do not use it in a production deployment.\n",
      "   Use a production WSGI server instead.\n",
      " * Debug mode: off\n"
     ]
    },
    {
     "name": "stderr",
     "output_type": "stream",
     "text": [
      "INFO:werkzeug: * Running on http://127.0.0.1:5000/ (Press CTRL+C to quit)\n",
      "INFO:werkzeug:127.0.0.1 - - [15/Apr/2021 14:47:11] \"\u001b[37mGET / HTTP/1.1\u001b[0m\" 200 -\n",
      "INFO:werkzeug:127.0.0.1 - - [15/Apr/2021 14:47:11] \"\u001b[36mGET /static/style.css HTTP/1.1\u001b[0m\" 304 -\n",
      "INFO:werkzeug:127.0.0.1 - - [15/Apr/2021 14:47:11] \"\u001b[33mGET /favicon.ico HTTP/1.1\u001b[0m\" 404 -\n",
      "INFO:werkzeug:127.0.0.1 - - [15/Apr/2021 14:47:14] \"\u001b[37mGET /get?msg=hello HTTP/1.1\u001b[0m\" 200 -\n",
      "INFO:werkzeug:127.0.0.1 - - [15/Apr/2021 14:47:20] \"\u001b[37mGET /get?msg=What%20is%20COVID-19 HTTP/1.1\u001b[0m\" 200 -\n",
      "INFO:werkzeug:127.0.0.1 - - [15/Apr/2021 14:47:23] \"\u001b[37mGET /get?msg=death HTTP/1.1\u001b[0m\" 200 -\n",
      "INFO:werkzeug:127.0.0.1 - - [15/Apr/2021 14:47:32] \"\u001b[37mGET /get?msg=What%20is%20corona%20virus HTTP/1.1\u001b[0m\" 200 -\n",
      "INFO:werkzeug:127.0.0.1 - - [15/Apr/2021 14:59:15] \"\u001b[37mGET / HTTP/1.1\u001b[0m\" 200 -\n",
      "INFO:werkzeug:127.0.0.1 - - [15/Apr/2021 14:59:19] \"\u001b[37mGET /get?msg=Hi HTTP/1.1\u001b[0m\" 200 -\n",
      "INFO:werkzeug:127.0.0.1 - - [15/Apr/2021 14:59:31] \"\u001b[37mGET /get?msg=What%20is%20Corona%20Virus HTTP/1.1\u001b[0m\" 200 -\n"
     ]
    }
   ],
   "source": [
    "#Application to chat with bot\n",
    "from flask import Flask, render_template, request\n",
    "\n",
    "app = Flask(__name__)\n",
    "app.static_folder = 'static'\n",
    "\n",
    "@app.route(\"/\")\n",
    "def home():\n",
    "    return render_template(\"index.html\")\n",
    "\n",
    "@app.route(\"/get\")\n",
    "def get_bot_response():\n",
    "    userText = request.args.get('msg')\n",
    "    return str(get_response(userText))\n",
    "\n",
    "if __name__ == \"__main__\":\n",
    "    app.run() "
   ]
  },
  {
   "cell_type": "code",
   "execution_count": null,
   "metadata": {},
   "outputs": [],
   "source": []
  }
 ],
 "metadata": {
  "kernelspec": {
   "display_name": "Python 3",
   "language": "python",
   "name": "python3"
  },
  "language_info": {
   "codemirror_mode": {
    "name": "ipython",
    "version": 3
   },
   "file_extension": ".py",
   "mimetype": "text/x-python",
   "name": "python",
   "nbconvert_exporter": "python",
   "pygments_lexer": "ipython3",
   "version": "3.7.9"
  }
 },
 "nbformat": 4,
 "nbformat_minor": 4
}
